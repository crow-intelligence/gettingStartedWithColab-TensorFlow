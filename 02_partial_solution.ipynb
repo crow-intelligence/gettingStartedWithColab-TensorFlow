{
 "nbformat": 4,
 "nbformat_minor": 0,
 "metadata": {
  "colab": {
   "name": "02_Using_TensorFlow.ipynb",
   "provenance": [],
   "collapsed_sections": [],
   "authorship_tag": "ABX9TyOEhP4ZD+RsFXdABDyO5XXy",
   "include_colab_link": true
  },
  "kernelspec": {
   "name": "python3",
   "display_name": "Python 3"
  },
  "accelerator": "TPU"
 },
 "cells": [
  {
   "cell_type": "markdown",
   "metadata": {
    "id": "view-in-github",
    "colab_type": "text"
   },
   "source": [
    "<a href=\"https://colab.research.google.com/github/crow-intelligence/gettingStartedWithColab/blob/main/02_Using_TensorFlow.ipynb\" target=\"_parent\"><img src=\"https://colab.research.google.com/assets/colab-badge.svg\" alt=\"Open In Colab\"/></a>"
   ]
  },
  {
   "cell_type": "markdown",
   "metadata": {
    "id": "6uTPSzlIRaAf"
   },
   "source": [
    "# Milestone 2\n",
    "## Using TensorFlow with Colab\n",
    "\n"
   ]
  },
  {
   "cell_type": "markdown",
   "metadata": {
    "id": "44Nrsx5F0FxB"
   },
   "source": [
    "### Load the data\n",
    "Let's load the vectorized training and test data from Google Drive."
   ]
  },
  {
   "cell_type": "code",
   "metadata": {
    "id": "47mjL1yd0arD",
    "outputId": "a52c456e-eb91-4f77-d1b3-93e5646b87b1",
    "colab": {
     "base_uri": "https://localhost:8080/"
    }
   },
   "source": [
    "from google.colab import drive\n",
    "drive.mount('/content/drive', force_remount=True)\n"
   ],
   "execution_count": null,
   "outputs": [
    {
     "output_type": "stream",
     "text": [
      "Mounted at /content/drive\n"
     ],
     "name": "stdout"
    }
   ]
  },
  {
   "cell_type": "markdown",
   "metadata": {
    "id": "SAVw5mMgS68o"
   },
   "source": [
    "Read the data.\n",
    "Write your code below. Read in the SMS Spam Collection\n",
    "dataset, the texts and the labels."
   ]
  },
  {
   "cell_type": "code",
   "metadata": {
    "id": "D54Ancz8S-iM"
   },
   "source": [
    "import numpy as np\n",
    "import string\n",
    "\n",
    "# Load raw data\n"
   ],
   "execution_count": null,
   "outputs": []
  },
  {
   "cell_type": "markdown",
   "metadata": {
    "id": "2pJmwcK6GhzI"
   },
   "source": [
    "### Preprocess data\n",
    "Use the code cell below to preprocess the data."
   ]
  },
  {
   "cell_type": "code",
   "metadata": {
    "id": "WeXn5a9DGoqu"
   },
   "source": [
    "from keras.preprocessing.text import Tokenizer\n",
    "from keras.preprocessing.sequence import pad_sequences\n",
    "from sklearn.model_selection import train_test_split\n",
    "\n"
   ],
   "execution_count": null,
   "outputs": []
  },
  {
   "cell_type": "markdown",
   "metadata": {
    "id": "ihfFKqGMMsuj"
   },
   "source": [
    "### A very simple Neural Network\n",
    "Implement your neural network below."
   ]
  },
  {
   "cell_type": "code",
   "metadata": {
    "id": "jei2NX6mM0EO",
    "outputId": "c69642ef-110e-46c0-dc05-542696837421",
    "colab": {
     "base_uri": "https://localhost:8080/"
    }
   },
   "source": [
    "import keras\n",
    "import tensorflow as tf"
   ],
   "execution_count": null,
   "outputs": [
    {
     "output_type": "stream",
     "text": [
      "Model: \"sequential_6\"\n",
      "_________________________________________________________________\n",
      "Layer (type)                 Output Shape              Param #   \n",
      "=================================================================\n",
      "embedding_6 (Embedding)      (None, None, 50)          483100    \n",
      "_________________________________________________________________\n",
      "global_max_pooling1d_6 (Glob (None, 50)                0         \n",
      "_________________________________________________________________\n",
      "dense_12 (Dense)             (None, 16)                816       \n",
      "_________________________________________________________________\n",
      "dense_13 (Dense)             (None, 1)                 17        \n",
      "=================================================================\n",
      "Total params: 483,933\n",
      "Trainable params: 483,933\n",
      "Non-trainable params: 0\n",
      "_________________________________________________________________\n",
      "\n",
      "Epoch 00001: saving model to /content/drive/My Drive/Colab Notebooks/01_models/checkpoints/weights.01-0.30.ckpt\n",
      "\n",
      "Epoch 00002: saving model to /content/drive/My Drive/Colab Notebooks/01_models/checkpoints/weights.02-0.09.ckpt\n",
      "\n",
      "Epoch 00003: saving model to /content/drive/My Drive/Colab Notebooks/01_models/checkpoints/weights.03-0.06.ckpt\n",
      "\n",
      "Epoch 00004: saving model to /content/drive/My Drive/Colab Notebooks/01_models/checkpoints/weights.04-0.05.ckpt\n",
      "\n",
      "Epoch 00005: saving model to /content/drive/My Drive/Colab Notebooks/01_models/checkpoints/weights.05-0.05.ckpt\n",
      "\n",
      "Epoch 00006: saving model to /content/drive/My Drive/Colab Notebooks/01_models/checkpoints/weights.06-0.05.ckpt\n",
      "\n",
      "Epoch 00007: saving model to /content/drive/My Drive/Colab Notebooks/01_models/checkpoints/weights.07-0.05.ckpt\n",
      "\n",
      "Epoch 00008: saving model to /content/drive/My Drive/Colab Notebooks/01_models/checkpoints/weights.08-0.05.ckpt\n",
      "\n",
      "Epoch 00009: saving model to /content/drive/My Drive/Colab Notebooks/01_models/checkpoints/weights.09-0.05.ckpt\n",
      "\n",
      "Epoch 00010: saving model to /content/drive/My Drive/Colab Notebooks/01_models/checkpoints/weights.10-0.05.ckpt\n",
      "\n",
      "Epoch 00011: saving model to /content/drive/My Drive/Colab Notebooks/01_models/checkpoints/weights.11-0.05.ckpt\n",
      "\n",
      "Epoch 00012: saving model to /content/drive/My Drive/Colab Notebooks/01_models/checkpoints/weights.12-0.05.ckpt\n",
      "\n",
      "Epoch 00013: saving model to /content/drive/My Drive/Colab Notebooks/01_models/checkpoints/weights.13-0.05.ckpt\n",
      "\n",
      "Epoch 00014: saving model to /content/drive/My Drive/Colab Notebooks/01_models/checkpoints/weights.14-0.05.ckpt\n",
      "\n",
      "Epoch 00015: saving model to /content/drive/My Drive/Colab Notebooks/01_models/checkpoints/weights.15-0.05.ckpt\n",
      "\n",
      "Epoch 00016: saving model to /content/drive/My Drive/Colab Notebooks/01_models/checkpoints/weights.16-0.05.ckpt\n",
      "\n",
      "Epoch 00017: saving model to /content/drive/My Drive/Colab Notebooks/01_models/checkpoints/weights.17-0.06.ckpt\n",
      "\n",
      "Epoch 00018: saving model to /content/drive/My Drive/Colab Notebooks/01_models/checkpoints/weights.18-0.06.ckpt\n",
      "\n",
      "Epoch 00019: saving model to /content/drive/My Drive/Colab Notebooks/01_models/checkpoints/weights.19-0.06.ckpt\n",
      "\n",
      "Epoch 00020: saving model to /content/drive/My Drive/Colab Notebooks/01_models/checkpoints/weights.20-0.06.ckpt\n",
      "\n",
      "Epoch 00021: saving model to /content/drive/My Drive/Colab Notebooks/01_models/checkpoints/weights.21-0.06.ckpt\n",
      "\n",
      "Epoch 00022: saving model to /content/drive/My Drive/Colab Notebooks/01_models/checkpoints/weights.22-0.06.ckpt\n",
      "\n",
      "Epoch 00023: saving model to /content/drive/My Drive/Colab Notebooks/01_models/checkpoints/weights.23-0.06.ckpt\n",
      "\n",
      "Epoch 00024: saving model to /content/drive/My Drive/Colab Notebooks/01_models/checkpoints/weights.24-0.06.ckpt\n",
      "\n",
      "Epoch 00025: saving model to /content/drive/My Drive/Colab Notebooks/01_models/checkpoints/weights.25-0.06.ckpt\n",
      "\n",
      "Epoch 00026: saving model to /content/drive/My Drive/Colab Notebooks/01_models/checkpoints/weights.26-0.06.ckpt\n",
      "\n",
      "Epoch 00027: saving model to /content/drive/My Drive/Colab Notebooks/01_models/checkpoints/weights.27-0.06.ckpt\n",
      "\n",
      "Epoch 00028: saving model to /content/drive/My Drive/Colab Notebooks/01_models/checkpoints/weights.28-0.06.ckpt\n",
      "\n",
      "Epoch 00029: saving model to /content/drive/My Drive/Colab Notebooks/01_models/checkpoints/weights.29-0.06.ckpt\n",
      "\n",
      "Epoch 00030: saving model to /content/drive/My Drive/Colab Notebooks/01_models/checkpoints/weights.30-0.06.ckpt\n",
      "\n",
      "Epoch 00031: saving model to /content/drive/My Drive/Colab Notebooks/01_models/checkpoints/weights.31-0.06.ckpt\n",
      "\n",
      "Epoch 00032: saving model to /content/drive/My Drive/Colab Notebooks/01_models/checkpoints/weights.32-0.06.ckpt\n",
      "\n",
      "Epoch 00033: saving model to /content/drive/My Drive/Colab Notebooks/01_models/checkpoints/weights.33-0.07.ckpt\n",
      "\n",
      "Epoch 00034: saving model to /content/drive/My Drive/Colab Notebooks/01_models/checkpoints/weights.34-0.07.ckpt\n",
      "\n",
      "Epoch 00035: saving model to /content/drive/My Drive/Colab Notebooks/01_models/checkpoints/weights.35-0.07.ckpt\n",
      "\n",
      "Epoch 00036: saving model to /content/drive/My Drive/Colab Notebooks/01_models/checkpoints/weights.36-0.07.ckpt\n",
      "\n",
      "Epoch 00037: saving model to /content/drive/My Drive/Colab Notebooks/01_models/checkpoints/weights.37-0.07.ckpt\n",
      "\n",
      "Epoch 00038: saving model to /content/drive/My Drive/Colab Notebooks/01_models/checkpoints/weights.38-0.07.ckpt\n",
      "\n",
      "Epoch 00039: saving model to /content/drive/My Drive/Colab Notebooks/01_models/checkpoints/weights.39-0.07.ckpt\n",
      "\n",
      "Epoch 00040: saving model to /content/drive/My Drive/Colab Notebooks/01_models/checkpoints/weights.40-0.07.ckpt\n",
      "\n",
      "Epoch 00041: saving model to /content/drive/My Drive/Colab Notebooks/01_models/checkpoints/weights.41-0.07.ckpt\n",
      "\n",
      "Epoch 00042: saving model to /content/drive/My Drive/Colab Notebooks/01_models/checkpoints/weights.42-0.07.ckpt\n",
      "\n",
      "Epoch 00043: saving model to /content/drive/My Drive/Colab Notebooks/01_models/checkpoints/weights.43-0.07.ckpt\n",
      "\n",
      "Epoch 00044: saving model to /content/drive/My Drive/Colab Notebooks/01_models/checkpoints/weights.44-0.07.ckpt\n",
      "\n",
      "Epoch 00045: saving model to /content/drive/My Drive/Colab Notebooks/01_models/checkpoints/weights.45-0.07.ckpt\n",
      "\n",
      "Epoch 00046: saving model to /content/drive/My Drive/Colab Notebooks/01_models/checkpoints/weights.46-0.07.ckpt\n",
      "\n",
      "Epoch 00047: saving model to /content/drive/My Drive/Colab Notebooks/01_models/checkpoints/weights.47-0.07.ckpt\n",
      "\n",
      "Epoch 00048: saving model to /content/drive/My Drive/Colab Notebooks/01_models/checkpoints/weights.48-0.07.ckpt\n",
      "\n",
      "Epoch 00049: saving model to /content/drive/My Drive/Colab Notebooks/01_models/checkpoints/weights.49-0.07.ckpt\n",
      "\n",
      "Epoch 00050: saving model to /content/drive/My Drive/Colab Notebooks/01_models/checkpoints/weights.50-0.08.ckpt\n",
      "\n",
      "Epoch 00051: saving model to /content/drive/My Drive/Colab Notebooks/01_models/checkpoints/weights.51-0.08.ckpt\n",
      "\n",
      "Epoch 00052: saving model to /content/drive/My Drive/Colab Notebooks/01_models/checkpoints/weights.52-0.08.ckpt\n",
      "\n",
      "Epoch 00053: saving model to /content/drive/My Drive/Colab Notebooks/01_models/checkpoints/weights.53-0.08.ckpt\n",
      "\n",
      "Epoch 00054: saving model to /content/drive/My Drive/Colab Notebooks/01_models/checkpoints/weights.54-0.08.ckpt\n",
      "\n",
      "Epoch 00055: saving model to /content/drive/My Drive/Colab Notebooks/01_models/checkpoints/weights.55-0.08.ckpt\n",
      "\n",
      "Epoch 00056: saving model to /content/drive/My Drive/Colab Notebooks/01_models/checkpoints/weights.56-0.08.ckpt\n",
      "\n",
      "Epoch 00057: saving model to /content/drive/My Drive/Colab Notebooks/01_models/checkpoints/weights.57-0.08.ckpt\n",
      "\n",
      "Epoch 00058: saving model to /content/drive/My Drive/Colab Notebooks/01_models/checkpoints/weights.58-0.08.ckpt\n",
      "\n",
      "Epoch 00059: saving model to /content/drive/My Drive/Colab Notebooks/01_models/checkpoints/weights.59-0.08.ckpt\n",
      "\n",
      "Epoch 00060: saving model to /content/drive/My Drive/Colab Notebooks/01_models/checkpoints/weights.60-0.08.ckpt\n",
      "\n",
      "Epoch 00061: saving model to /content/drive/My Drive/Colab Notebooks/01_models/checkpoints/weights.61-0.08.ckpt\n",
      "\n",
      "Epoch 00062: saving model to /content/drive/My Drive/Colab Notebooks/01_models/checkpoints/weights.62-0.08.ckpt\n",
      "\n",
      "Epoch 00063: saving model to /content/drive/My Drive/Colab Notebooks/01_models/checkpoints/weights.63-0.08.ckpt\n",
      "\n",
      "Epoch 00064: saving model to /content/drive/My Drive/Colab Notebooks/01_models/checkpoints/weights.64-0.09.ckpt\n",
      "\n",
      "Epoch 00065: saving model to /content/drive/My Drive/Colab Notebooks/01_models/checkpoints/weights.65-0.09.ckpt\n",
      "\n",
      "Epoch 00066: saving model to /content/drive/My Drive/Colab Notebooks/01_models/checkpoints/weights.66-0.09.ckpt\n",
      "\n",
      "Epoch 00067: saving model to /content/drive/My Drive/Colab Notebooks/01_models/checkpoints/weights.67-0.09.ckpt\n",
      "\n",
      "Epoch 00068: saving model to /content/drive/My Drive/Colab Notebooks/01_models/checkpoints/weights.68-0.09.ckpt\n",
      "\n",
      "Epoch 00069: saving model to /content/drive/My Drive/Colab Notebooks/01_models/checkpoints/weights.69-0.09.ckpt\n",
      "\n",
      "Epoch 00070: saving model to /content/drive/My Drive/Colab Notebooks/01_models/checkpoints/weights.70-0.09.ckpt\n",
      "\n",
      "Epoch 00071: saving model to /content/drive/My Drive/Colab Notebooks/01_models/checkpoints/weights.71-0.09.ckpt\n",
      "\n",
      "Epoch 00072: saving model to /content/drive/My Drive/Colab Notebooks/01_models/checkpoints/weights.72-0.09.ckpt\n",
      "\n",
      "Epoch 00073: saving model to /content/drive/My Drive/Colab Notebooks/01_models/checkpoints/weights.73-0.09.ckpt\n",
      "\n",
      "Epoch 00074: saving model to /content/drive/My Drive/Colab Notebooks/01_models/checkpoints/weights.74-0.09.ckpt\n",
      "\n",
      "Epoch 00075: saving model to /content/drive/My Drive/Colab Notebooks/01_models/checkpoints/weights.75-0.09.ckpt\n",
      "\n",
      "Epoch 00076: saving model to /content/drive/My Drive/Colab Notebooks/01_models/checkpoints/weights.76-0.09.ckpt\n",
      "\n",
      "Epoch 00077: saving model to /content/drive/My Drive/Colab Notebooks/01_models/checkpoints/weights.77-0.09.ckpt\n",
      "\n",
      "Epoch 00078: saving model to /content/drive/My Drive/Colab Notebooks/01_models/checkpoints/weights.78-0.09.ckpt\n",
      "\n",
      "Epoch 00079: saving model to /content/drive/My Drive/Colab Notebooks/01_models/checkpoints/weights.79-0.10.ckpt\n",
      "\n",
      "Epoch 00080: saving model to /content/drive/My Drive/Colab Notebooks/01_models/checkpoints/weights.80-0.10.ckpt\n",
      "\n",
      "Epoch 00081: saving model to /content/drive/My Drive/Colab Notebooks/01_models/checkpoints/weights.81-0.10.ckpt\n",
      "\n",
      "Epoch 00082: saving model to /content/drive/My Drive/Colab Notebooks/01_models/checkpoints/weights.82-0.10.ckpt\n",
      "\n",
      "Epoch 00083: saving model to /content/drive/My Drive/Colab Notebooks/01_models/checkpoints/weights.83-0.10.ckpt\n",
      "\n",
      "Epoch 00084: saving model to /content/drive/My Drive/Colab Notebooks/01_models/checkpoints/weights.84-0.10.ckpt\n",
      "\n",
      "Epoch 00085: saving model to /content/drive/My Drive/Colab Notebooks/01_models/checkpoints/weights.85-0.10.ckpt\n",
      "\n",
      "Epoch 00086: saving model to /content/drive/My Drive/Colab Notebooks/01_models/checkpoints/weights.86-0.10.ckpt\n",
      "\n",
      "Epoch 00087: saving model to /content/drive/My Drive/Colab Notebooks/01_models/checkpoints/weights.87-0.10.ckpt\n",
      "\n",
      "Epoch 00088: saving model to /content/drive/My Drive/Colab Notebooks/01_models/checkpoints/weights.88-0.10.ckpt\n",
      "\n",
      "Epoch 00089: saving model to /content/drive/My Drive/Colab Notebooks/01_models/checkpoints/weights.89-0.10.ckpt\n",
      "\n",
      "Epoch 00090: saving model to /content/drive/My Drive/Colab Notebooks/01_models/checkpoints/weights.90-0.11.ckpt\n",
      "\n",
      "Epoch 00091: saving model to /content/drive/My Drive/Colab Notebooks/01_models/checkpoints/weights.91-0.10.ckpt\n",
      "\n",
      "Epoch 00092: saving model to /content/drive/My Drive/Colab Notebooks/01_models/checkpoints/weights.92-0.11.ckpt\n",
      "\n",
      "Epoch 00093: saving model to /content/drive/My Drive/Colab Notebooks/01_models/checkpoints/weights.93-0.10.ckpt\n",
      "\n",
      "Epoch 00094: saving model to /content/drive/My Drive/Colab Notebooks/01_models/checkpoints/weights.94-0.11.ckpt\n",
      "\n",
      "Epoch 00095: saving model to /content/drive/My Drive/Colab Notebooks/01_models/checkpoints/weights.95-0.11.ckpt\n",
      "\n",
      "Epoch 00096: saving model to /content/drive/My Drive/Colab Notebooks/01_models/checkpoints/weights.96-0.11.ckpt\n",
      "\n",
      "Epoch 00097: saving model to /content/drive/My Drive/Colab Notebooks/01_models/checkpoints/weights.97-0.11.ckpt\n",
      "\n",
      "Epoch 00098: saving model to /content/drive/My Drive/Colab Notebooks/01_models/checkpoints/weights.98-0.11.ckpt\n",
      "\n",
      "Epoch 00099: saving model to /content/drive/My Drive/Colab Notebooks/01_models/checkpoints/weights.99-0.11.ckpt\n",
      "\n",
      "Epoch 00100: saving model to /content/drive/My Drive/Colab Notebooks/01_models/checkpoints/weights.100-0.11.ckpt\n",
      "Training Accuracy: 0.9998\n",
      "Testing Accuracy:  0.9842\n",
      "INFO:tensorflow:Assets written to: /content/drive/My Drive/Colab Notebooks/01_models/TFmodel/assets\n"
     ],
     "name": "stdout"
    }
   ]
  },
  {
   "cell_type": "markdown",
   "source": [
    "### Evaluate your model\n",
    "Put you evaluation script below."
   ],
   "metadata": {
    "collapsed": false
   }
  },
  {
   "cell_type": "code",
   "metadata": {
    "id": "RplWX8sDM0Db",
    "outputId": "529137f8-87c0-4bd0-8a2e-e92f68a166d5",
    "colab": {
     "base_uri": "https://localhost:8080/"
    }
   },
   "source": [
    "from sklearn.metrics import classification_report\n"
   ],
   "execution_count": null,
   "outputs": [
    {
     "output_type": "stream",
     "text": [
      "              precision    recall  f1-score   support\n",
      "\n",
      "           0       0.99      1.00      0.99      1203\n",
      "           1       0.97      0.92      0.95       191\n",
      "\n",
      "    accuracy                           0.99      1394\n",
      "   macro avg       0.98      0.96      0.97      1394\n",
      "weighted avg       0.99      0.99      0.99      1394\n",
      "\n"
     ],
     "name": "stdout"
    }
   ]
  }
 ]
}