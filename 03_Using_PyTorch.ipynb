{
  "nbformat": 4,
  "nbformat_minor": 0,
  "metadata": {
    "colab": {
      "name": "03_Using_PyTorch.ipynb",
      "provenance": [],
      "collapsed_sections": [],
      "authorship_tag": "ABX9TyN9wNmIyGHahJ9sM/BuglF8",
      "include_colab_link": true
    },
    "kernelspec": {
      "name": "python3",
      "display_name": "Python 3"
    },
    "accelerator": "GPU"
  },
  "cells": [
    {
      "cell_type": "markdown",
      "metadata": {
        "id": "view-in-github",
        "colab_type": "text"
      },
      "source": [
        "<a href=\"https://colab.research.google.com/github/crow-intelligence/gettingStartedWithColab/blob/main/03_Using_PyTorch.ipynb\" target=\"_parent\"><img src=\"https://colab.research.google.com/assets/colab-badge.svg\" alt=\"Open In Colab\"/></a>"
      ]
    },
    {
      "cell_type": "markdown",
      "metadata": {
        "id": "Vp3XVvZpP5FC"
      },
      "source": [
        "# Milestone 3\n",
        "## Using Pytorch\n",
        "\n",
        "### Load data\n",
        "Load count vectorized data made at Milestone 1. Transform them into torch tensors."
      ]
    },
    {
      "cell_type": "code",
      "metadata": {
        "id": "44tf6UPcZyCi",
        "outputId": "8922faf8-5459-4337-ad7b-adea1bcaa0e0",
        "colab": {
          "base_uri": "https://localhost:8080/"
        }
      },
      "source": [
        "from google.colab import drive\n",
        "drive.mount('/content/drive', force_remount=True)"
      ],
      "execution_count": null,
      "outputs": [
        {
          "output_type": "stream",
          "text": [
            "Mounted at /content/drive\n"
          ],
          "name": "stdout"
        }
      ]
    },
    {
      "cell_type": "code",
      "metadata": {
        "id": "PvGlPIQcZ1At"
      },
      "source": [
        "import pickle\n",
        "\n",
        "import numpy as np\n",
        "import torch\n",
        "\n",
        "# load countvectorized data\n",
        "X_train, X_test, y_train, y_test = pickle.load(open(\"/content/drive/My Drive/Colab Notebooks/01_data/vectorized_data.p\", \"rb\"))\n",
        "\n",
        "# numeric labels\n",
        "def relabel(label):\n",
        "  if label == \"spam\":\n",
        "    return 0\n",
        "  else:\n",
        "    return 1\n",
        "\n",
        "y_train = np.asarray([relabel(e) for e in y_train])\n",
        "y_test = np.asarray([relabel(e) for e in y_test])\n",
        "\n",
        "# convert them into tensors\n",
        "X_train_tensor = torch.from_numpy(X_train.todense()).float()\n",
        "X_test_tensor = torch.from_numpy(X_test.todense()).float()\n",
        "Y_train_tensor = torch.from_numpy(np.array(y_train))\n",
        "Y_test_tensor = torch.from_numpy(np.array(y_test))"
      ],
      "execution_count": null,
      "outputs": []
    },
    {
      "cell_type": "markdown",
      "metadata": {
        "id": "qFb3y0-IbNct"
      },
      "source": [
        "### Make Dataset"
      ]
    },
    {
      "cell_type": "code",
      "metadata": {
        "id": "k9-bMAbZY0IJ"
      },
      "source": [
        "from torch.utils.data import Dataset, TensorDataset\n",
        "from torch.utils.data import DataLoader\n",
        "\n",
        "train_data = TensorDataset(X_train_tensor, Y_train_tensor)\n",
        "train_loader = DataLoader(train_data,batch_size=16, shuffle=True)\n",
        "\n",
        "test_data = TensorDataset(X_test_tensor, Y_test_tensor)\n",
        "test_loader = DataLoader(test_data,batch_size=16, shuffle=True)\n"
      ],
      "execution_count": null,
      "outputs": []
    },
    {
      "cell_type": "markdown",
      "metadata": {
        "id": "3STB4VClZHPw"
      },
      "source": [
        ""
      ]
    },
    {
      "cell_type": "markdown",
      "metadata": {
        "id": "tEMLg4SCZHR7"
      },
      "source": [
        "### Define the network"
      ]
    },
    {
      "cell_type": "code",
      "metadata": {
        "id": "sd4KZWCvZKPG"
      },
      "source": [
        "class Network(torch.nn.Module):\n",
        "  def __init__(self,vocab_size,hidden_units,num_classes): \n",
        "    super().__init__()\n",
        "    #First fully connected layer\n",
        "    self.fc1 = torch.nn.Linear(vocab_size,hidden_units)\n",
        "    #Second fully connected layer\n",
        "    self.fc2 = torch.nn.Linear(hidden_units,num_classes)\n",
        "    #Final output of sigmoid function      \n",
        "    self.output = torch.nn.Sigmoid()\n",
        "\n",
        "  def forward(self,x):\n",
        "    fc1 = self.fc1(x)\n",
        "    fc2 = self.fc2(fc1)\n",
        "    output = self.output(fc2)\n",
        "    return output[:, -1]\n"
      ],
      "execution_count": null,
      "outputs": []
    },
    {
      "cell_type": "markdown",
      "metadata": {
        "id": "RE_uCgPHZhqK"
      },
      "source": [
        "### Training"
      ]
    },
    {
      "cell_type": "code",
      "metadata": {
        "id": "UAeAYzH1Zlyf",
        "outputId": "61ea9db3-c594-4493-be80-b96f26586e87",
        "colab": {
          "base_uri": "https://localhost:8080/"
        }
      },
      "source": [
        "NUM_EPOCHS = 200\n",
        "VOCAB_SIZE = 8110\n",
        "HIDDEN_UNITS = 5\n",
        "OUT_CLASSES = 1\n",
        "LEARNING_RATE = 0.001\n",
        "\n",
        "# save checkpoints\n",
        "\n",
        "\n",
        "#Initialize model\n",
        "model = Network(VOCAB_SIZE,HIDDEN_UNITS,OUT_CLASSES)\n",
        "model.cuda()\n",
        "print(model)\n",
        "#Initialize optimizer\n",
        "optimizer =torch.optim.SGD(model.parameters(), lr=LEARNING_RATE)\n",
        "#Initialize loss function\n",
        "loss_fun = torch.nn.BCELoss()\n",
        "for i in range(NUM_EPOCHS):\n",
        "  # print(i)\n",
        "  PATH = f\"/content/drive/My Drive/Colab Notebooks/01_models/pytorch/pytorch_model_epoch{i}.pt\"\n",
        "  for x_batch, y_batch in train_loader:\n",
        "    model.train()\n",
        "    y_pred = model(x_batch.cuda())\n",
        "    loss = loss_fun(y_pred.cuda(), y_batch.float().cuda())\n",
        "    loss.backward()\n",
        "    optimizer.step()\n",
        "    optimizer.zero_grad()\n",
        "  torch.save({\"epoch\": i,\n",
        "              \"model_state_dict\": model.state_dict(),\n",
        "              \"optimizer_state_dict\": optimizer.state_dict(),\n",
        "              \"loss\": loss}, PATH)\n",
        "print('After {} epoch training loss is {}'.format(i,loss.item()))\n"
      ],
      "execution_count": null,
      "outputs": [
        {
          "output_type": "stream",
          "text": [
            "Network(\n",
            "  (fc1): Linear(in_features=8110, out_features=5, bias=True)\n",
            "  (fc2): Linear(in_features=5, out_features=1, bias=True)\n",
            "  (output): Sigmoid()\n",
            ")\n",
            "0\n",
            "1\n",
            "2\n",
            "3\n",
            "4\n",
            "5\n",
            "6\n",
            "7\n",
            "8\n",
            "9\n",
            "10\n",
            "11\n",
            "12\n",
            "13\n",
            "14\n",
            "15\n",
            "16\n",
            "17\n",
            "18\n",
            "19\n",
            "20\n",
            "21\n",
            "22\n",
            "23\n",
            "24\n",
            "25\n",
            "26\n",
            "27\n",
            "28\n",
            "29\n",
            "30\n",
            "31\n",
            "32\n",
            "33\n",
            "34\n",
            "35\n",
            "36\n",
            "37\n",
            "38\n",
            "39\n",
            "40\n",
            "41\n",
            "42\n",
            "43\n",
            "44\n",
            "45\n",
            "46\n",
            "47\n",
            "48\n",
            "49\n",
            "50\n",
            "51\n",
            "52\n",
            "53\n",
            "54\n",
            "55\n",
            "56\n",
            "57\n",
            "58\n",
            "59\n",
            "60\n",
            "61\n",
            "62\n",
            "63\n",
            "64\n",
            "65\n",
            "66\n",
            "67\n",
            "68\n",
            "69\n",
            "70\n",
            "71\n",
            "72\n",
            "73\n",
            "74\n",
            "75\n",
            "76\n",
            "77\n",
            "78\n",
            "79\n",
            "80\n",
            "81\n",
            "82\n",
            "83\n",
            "84\n",
            "85\n",
            "86\n",
            "87\n",
            "88\n",
            "89\n",
            "90\n",
            "91\n",
            "92\n",
            "93\n",
            "94\n",
            "95\n",
            "96\n",
            "97\n",
            "98\n",
            "99\n",
            "100\n",
            "101\n",
            "102\n",
            "103\n",
            "104\n",
            "105\n",
            "106\n",
            "107\n",
            "108\n",
            "109\n",
            "110\n",
            "111\n",
            "112\n",
            "113\n",
            "114\n",
            "115\n",
            "116\n",
            "117\n",
            "118\n",
            "119\n",
            "120\n",
            "121\n",
            "122\n",
            "123\n",
            "124\n",
            "125\n",
            "126\n",
            "127\n",
            "128\n",
            "129\n",
            "130\n",
            "131\n",
            "132\n",
            "133\n",
            "134\n",
            "135\n",
            "136\n",
            "137\n",
            "138\n",
            "139\n",
            "140\n",
            "141\n",
            "142\n",
            "143\n",
            "144\n",
            "145\n",
            "146\n",
            "147\n",
            "148\n",
            "149\n",
            "150\n",
            "151\n",
            "152\n",
            "153\n",
            "154\n",
            "155\n",
            "156\n",
            "157\n",
            "158\n",
            "159\n",
            "160\n",
            "161\n",
            "162\n",
            "163\n",
            "164\n",
            "165\n",
            "166\n",
            "167\n",
            "168\n",
            "169\n",
            "170\n",
            "171\n",
            "172\n",
            "173\n",
            "174\n",
            "175\n",
            "176\n",
            "177\n",
            "178\n",
            "179\n",
            "180\n",
            "181\n",
            "182\n",
            "183\n",
            "184\n",
            "185\n",
            "186\n",
            "187\n",
            "188\n",
            "189\n",
            "190\n",
            "191\n",
            "192\n",
            "193\n",
            "194\n",
            "195\n",
            "196\n",
            "197\n",
            "198\n",
            "199\n",
            "After 199 epoch training loss is 0.0015496076084673405\n"
          ],
          "name": "stdout"
        }
      ]
    },
    {
      "cell_type": "code",
      "metadata": {
        "id": "9cCcjw6OciqD",
        "outputId": "564f23ba-ee21-40fa-9ebc-bc7cea1edb99",
        "colab": {
          "base_uri": "https://localhost:8080/"
        }
      },
      "source": [
        "from sklearn.metrics import classification_report\n",
        "\n",
        "y_pred_tensor = model(X_test_tensor.cuda())\n",
        "y_pred_probs = y_pred_tensor.cpu().detach().numpy()\n",
        "# we want high recall & precision for spam\n",
        "y_pred = np.asarray([(lambda x: 1 if x > 0.80 else 0) (x) for x in y_pred_probs])\n",
        "\n",
        "print(classification_report(y_test, y_pred, target_names=[\"spam\", \"ham\"]))\n"
      ],
      "execution_count": null,
      "outputs": [
        {
          "output_type": "stream",
          "text": [
            "              precision    recall  f1-score   support\n",
            "\n",
            "        spam       0.90      0.92      0.91       191\n",
            "         ham       0.99      0.98      0.99      1203\n",
            "\n",
            "    accuracy                           0.97      1394\n",
            "   macro avg       0.94      0.95      0.95      1394\n",
            "weighted avg       0.98      0.97      0.98      1394\n",
            "\n"
          ],
          "name": "stdout"
        }
      ]
    }
  ]
}